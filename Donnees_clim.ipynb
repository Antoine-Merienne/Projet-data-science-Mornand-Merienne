{
 "cells": [
  {
   "cell_type": "code",
   "execution_count": 17,
   "metadata": {},
   "outputs": [],
   "source": [
    "import pandas as pd\n",
    "from matplotlib import pyplot as plt"
   ]
  },
  {
   "cell_type": "code",
   "execution_count": 24,
   "metadata": {},
   "outputs": [
    {
     "name": "stdout",
     "output_type": "stream",
     "text": [
      "   numer_sta            date    pmer tend  ... nnuage4 ctype4 hnuage4 Unnamed: 59\n",
      "0       7005  20200101000000  103180  -80  ...      mq     mq      mq         NaN\n",
      "1       7015  20200101000000  103320    0  ...      mq     mq      mq         NaN\n",
      "2       7020  20200101000000  102870  -70  ...      mq     mq      mq         NaN\n",
      "3       7027  20200101000000  103080    0  ...      mq     mq      mq         NaN\n",
      "4       7037  20200101000000  103190  -30  ...      mq     mq      mq         NaN\n",
      "\n",
      "[5 rows x 60 columns]\n"
     ]
    }
   ],
   "source": [
    "df_meteo_202001 = pd.read_csv(\"C:/Users/axell/OneDrive/Documents/ENSAE/Projet-data-science-Mornand-Merienne/CSV_data/METEOFRANCE.gz\", compression='gzip', sep=';', encoding='utf-8')\n",
    "print(df_meteo_202001.head())"
   ]
  },
  {
   "cell_type": "code",
   "execution_count": 26,
   "metadata": {},
   "outputs": [
    {
     "name": "stdout",
     "output_type": "stream",
     "text": [
      "Index(['numer_sta', 'date', 'pmer', 'tend', 'cod_tend', 'dd', 'ff', 't', 'td',\n",
      "       'u', 'vv', 'ww', 'w1', 'w2', 'n', 'nbas', 'hbas', 'cl', 'cm', 'ch',\n",
      "       'pres', 'niv_bar', 'geop', 'tend24', 'tn12', 'tn24', 'tx12', 'tx24',\n",
      "       'tminsol', 'sw', 'tw', 'raf10', 'rafper', 'per', 'etat_sol', 'ht_neige',\n",
      "       'ssfrai', 'perssfrai', 'rr1', 'rr3', 'rr6', 'rr12', 'rr24', 'phenspe1',\n",
      "       'phenspe2', 'phenspe3', 'phenspe4', 'nnuage1', 'ctype1', 'hnuage1',\n",
      "       'nnuage2', 'ctype2', 'hnuage2', 'nnuage3', 'ctype3', 'hnuage3',\n",
      "       'nnuage4', 'ctype4', 'hnuage4', 'Unnamed: 59'],\n",
      "      dtype='object')\n"
     ]
    }
   ],
   "source": [
    "print(df_meteo_202001.columns)"
   ]
  },
  {
   "cell_type": "code",
   "execution_count": 28,
   "metadata": {},
   "outputs": [
    {
     "name": "stdout",
     "output_type": "stream",
     "text": [
      "   numer_sta            date    pmer tend  ...    u    vv    n       rr12\n",
      "0       7005  20200101000000  103180  -80  ...   89  9290   mq   0.000000\n",
      "1       7015  20200101000000  103320    0  ...   99   130  101  -0.100000\n",
      "2       7020  20200101000000  102870  -70  ...   93  8000  100   0.000000\n",
      "3       7027  20200101000000  103080    0  ...  100   350   mq   0.000000\n",
      "4       7037  20200101000000  103190  -30  ...  100    80  101   0.000000\n",
      "\n",
      "[5 rows x 11 columns]\n"
     ]
    }
   ],
   "source": [
    "colonnes_a_garder = ['numer_sta', 'date', 'pmer', 'tend', 'dd', 'ff', 't', 'u', 'vv', 'n', 'rr12']\n",
    "df_meteo_202001 = df_meteo_202001[colonnes_a_garder]\n",
    "print(df_meteo_202001.head())"
   ]
  },
  {
   "cell_type": "markdown",
   "metadata": {},
   "source": [
    "A faire : renommer colonnes, voir pour concaténer données + sur quelle timeframe. "
   ]
  }
 ],
 "metadata": {
  "kernelspec": {
   "display_name": "Python 3",
   "language": "python",
   "name": "python3"
  },
  "language_info": {
   "codemirror_mode": {
    "name": "ipython",
    "version": 3
   },
   "file_extension": ".py",
   "mimetype": "text/x-python",
   "name": "python",
   "nbconvert_exporter": "python",
   "pygments_lexer": "ipython3",
   "version": "3.13.0"
  }
 },
 "nbformat": 4,
 "nbformat_minor": 2
}
