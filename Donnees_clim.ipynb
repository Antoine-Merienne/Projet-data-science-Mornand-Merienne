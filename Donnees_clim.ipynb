{
 "cells": [
  {
   "cell_type": "code",
   "execution_count": 64,
   "metadata": {},
   "outputs": [],
   "source": [
    "import pandas as pd\n",
    "from matplotlib import pyplot as plt\n",
    "import os"
   ]
  },
  {
   "cell_type": "code",
   "execution_count": 67,
   "metadata": {},
   "outputs": [
    {
     "name": "stdout",
     "output_type": "stream",
     "text": [
      "          numer_sta          date  Unnamed: 59\n",
      "count  14833.000000  1.483300e+04          0.0\n",
      "mean   27021.421156  2.020012e+13          NaN\n",
      "std    30487.679317  8.937503e+06          NaN\n",
      "min     7005.000000  2.020010e+13          NaN\n",
      "25%     7207.000000  2.020011e+13          NaN\n",
      "50%     7577.000000  2.020012e+13          NaN\n",
      "75%    61980.000000  2.020012e+13          NaN\n",
      "max    89642.000000  2.020013e+13          NaN\n",
      "61\n"
     ]
    }
   ],
   "source": [
    "path = \"C:/Users/axell/OneDrive/Documents/ENSAE/Projet-data-science-Mornand-Merienne/CSV_data/METEOFRANCE\"\n",
    "\n",
    "# Initialisation d'un dictionnaire pour stocker les DataFrames\n",
    "df_meteo = {}\n",
    "\n",
    "for year in range(2020, 2024):  \n",
    "    for month in range(1, 13):  \n",
    "        date = f\"{year}{month:02d}\"  # Format \"202001\", \"202002\", etc\n",
    "        file_name = f\"synop.{date}.csv.gz\"\n",
    "        file_path = os.path.join(path, file_name)\n",
    "        df = pd.read_csv(file_path, compression='gzip', sep=';', encoding='utf-8')\n",
    "        df_meteo[f\"df_meteo_{date}\"] = df\n",
    "\n",
    "# Exemple pour accéder à janvier 2020 :\n",
    "df_meteo_202001 = df_meteo.get(\"df_meteo_202001\")\n",
    "print(df_meteo_202001.describe())\n",
    "print(df_meteo_202001['numer_sta'].nunique())"
   ]
  },
  {
   "cell_type": "code",
   "execution_count": 59,
   "metadata": {},
   "outputs": [
    {
     "name": "stdout",
     "output_type": "stream",
     "text": [
      "Index(['numer_sta', 'date', 'pmer', 'tend', 'cod_tend', 'dd', 'ff', 't', 'td',\n",
      "       'u', 'vv', 'ww', 'w1', 'w2', 'n', 'nbas', 'hbas', 'cl', 'cm', 'ch',\n",
      "       'pres', 'niv_bar', 'geop', 'tend24', 'tn12', 'tn24', 'tx12', 'tx24',\n",
      "       'tminsol', 'sw', 'tw', 'raf10', 'rafper', 'per', 'etat_sol', 'ht_neige',\n",
      "       'ssfrai', 'perssfrai', 'rr1', 'rr3', 'rr6', 'rr12', 'rr24', 'phenspe1',\n",
      "       'phenspe2', 'phenspe3', 'phenspe4', 'nnuage1', 'ctype1', 'hnuage1',\n",
      "       'nnuage2', 'ctype2', 'hnuage2', 'nnuage3', 'ctype3', 'hnuage3',\n",
      "       'nnuage4', 'ctype4', 'hnuage4', 'Unnamed: 59'],\n",
      "      dtype='object')\n"
     ]
    }
   ],
   "source": [
    "print(df_meteo_202001.columns)"
   ]
  },
  {
   "cell_type": "code",
   "execution_count": 68,
   "metadata": {},
   "outputs": [
    {
     "name": "stdout",
     "output_type": "stream",
     "text": [
      "   indicatif_station        date_UTC pression_niveau_mer_Pa  \\\n",
      "0               7005  20200101000000                 103180   \n",
      "1               7015  20200101000000                 103320   \n",
      "2               7020  20200101000000                 102870   \n",
      "3               7027  20200101000000                 103080   \n",
      "4               7037  20200101000000                 103190   \n",
      "\n",
      "  var_pression_3h_Pa direction_vent_moyen_10mn_deg  \\\n",
      "0                -80                           120   \n",
      "1                  0                            80   \n",
      "2                -70                            80   \n",
      "3                  0                           100   \n",
      "4                -30                           130   \n",
      "\n",
      "  vitesse_vent_moyen_10mn_m/s temperature_K humidite_%  \\\n",
      "0                    1.800000    274.350000         89   \n",
      "1                    4.700000    275.250000         99   \n",
      "2                    1.300000    280.550000         93   \n",
      "3                    4.200000    275.750000        100   \n",
      "4                    2.200000    272.250000        100   \n",
      "\n",
      "  visibilite_horizontale_m precipitations_12h_mm  \n",
      "0                     9290              0.000000  \n",
      "1                      130             -0.100000  \n",
      "2                     8000              0.000000  \n",
      "3                      350              0.000000  \n",
      "4                       80              0.000000  \n"
     ]
    }
   ],
   "source": [
    "colonnes_a_garder = ['numer_sta', 'date', 'pmer', 'tend', 'dd', 'ff', 't', 'u', 'vv', 'rr12']\n",
    "noms_colonnes = {\n",
    "    'numer_sta': 'indicatif_station',\n",
    "    'date': 'date_UTC',\n",
    "    'pmer': 'pression_niveau_mer_Pa',\n",
    "    'tend': 'var_pression_3h_Pa',\n",
    "    'dd': 'direction_vent_moyen_10mn_deg',\n",
    "    'ff': 'vitesse_vent_moyen_10mn_m/s',\n",
    "    't': 'temperature_K',\n",
    "    'u': 'humidite_%',\n",
    "    'vv': 'visibilite_horizontale_m',\n",
    "    'rr12': 'precipitations_12h_mm'\n",
    "}\n",
    "\n",
    "for key in df_meteo:\n",
    "    df_meteo[key] = df_meteo[key][colonnes_a_garder]\n",
    "    df_meteo[key] = df_meteo[key].rename(columns=noms_colonnes)\n",
    "\n",
    "df_meteo_202001 = df_meteo.get(\"df_meteo_202001\")\n",
    "print(df_meteo_202001.head())"
   ]
  },
  {
   "cell_type": "code",
   "execution_count": 69,
   "metadata": {},
   "outputs": [
    {
     "name": "stdout",
     "output_type": "stream",
     "text": [
      "   indicatif_station    date_UTC pression_niveau_mer_Pa var_pression_3h_Pa  \\\n",
      "0               7005  2020-01-01                 103180                -80   \n",
      "1               7015  2020-01-01                 103320                  0   \n",
      "2               7020  2020-01-01                 102870                -70   \n",
      "3               7027  2020-01-01                 103080                  0   \n",
      "4               7037  2020-01-01                 103190                -30   \n",
      "\n",
      "  direction_vent_moyen_10mn_deg vitesse_vent_moyen_10mn_m/s temperature_K  \\\n",
      "0                           120                    1.800000    274.350000   \n",
      "1                            80                    4.700000    275.250000   \n",
      "2                            80                    1.300000    280.550000   \n",
      "3                           100                    4.200000    275.750000   \n",
      "4                           130                    2.200000    272.250000   \n",
      "\n",
      "  humidite_% visibilite_horizontale_m precipitations_12h_mm  \n",
      "0         89                     9290              0.000000  \n",
      "1         99                      130             -0.100000  \n",
      "2         93                     8000              0.000000  \n",
      "3        100                      350              0.000000  \n",
      "4        100                       80              0.000000  \n",
      "61\n"
     ]
    }
   ],
   "source": [
    "def filtre_mesure_minuit(df):\n",
    "    df['date_UTC'] = pd.to_datetime(df['date_UTC'], format='%Y%m%d%H%M%S')\n",
    "\n",
    "    # Garder seulement les lignes où l'heure, minute et seconde sont égales à 00\n",
    "    df_minuit = df[df['date_UTC'].dt.hour == 0]\n",
    "    df_minuit = df_minuit[df_minuit['date_UTC'].dt.minute == 0]\n",
    "    df_minuit = df_minuit[df_minuit['date_UTC'].dt.second == 0]\n",
    "    \n",
    "    return df_minuit\n",
    "\n",
    "# Appliquer cette fonction de filtrage à tous les DataFrames du dictionnaire\n",
    "for key in df_meteo:\n",
    "    df_meteo[key] = filtre_mesure_minuit(df_meteo[key])  # Garder seulement les mesures à minuit\n",
    "    df_meteo[key]['date_UTC'] = df_meteo[key]['date_UTC'].dt.strftime('%Y-%m-%d')\n",
    "\n",
    "# Tester le résultat pour un DataFrame spécifique\n",
    "df_meteo_202001 = df_meteo.get(\"df_meteo_202001\")\n",
    "print(df_meteo_202001.head())\n",
    "print(df_meteo_202001['indicatif_station'].nunique())"
   ]
  },
  {
   "cell_type": "code",
   "execution_count": 71,
   "metadata": {},
   "outputs": [
    {
     "name": "stdout",
     "output_type": "stream",
     "text": [
      "       indicatif_station\n",
      "count       86772.000000\n",
      "mean        27005.637786\n",
      "std         30332.225628\n",
      "min          7005.000000\n",
      "25%          7207.000000\n",
      "50%          7591.000000\n",
      "75%         61980.000000\n",
      "max         89642.000000\n",
      "   indicatif_station    date_UTC pression_niveau_mer_Pa var_pression_3h_Pa  \\\n",
      "0               7005  2020-01-01                 103180                -80   \n",
      "1               7015  2020-01-01                 103320                  0   \n",
      "2               7020  2020-01-01                 102870                -70   \n",
      "3               7027  2020-01-01                 103080                  0   \n",
      "4               7037  2020-01-01                 103190                -30   \n",
      "\n",
      "  direction_vent_moyen_10mn_deg vitesse_vent_moyen_10mn_m/s temperature_K  \\\n",
      "0                           120                    1.800000    274.350000   \n",
      "1                            80                    4.700000    275.250000   \n",
      "2                            80                    1.300000    280.550000   \n",
      "3                           100                    4.200000    275.750000   \n",
      "4                           130                    2.200000    272.250000   \n",
      "\n",
      "  humidite_% visibilite_horizontale_m precipitations_12h_mm  \n",
      "0         89                     9290              0.000000  \n",
      "1         99                      130             -0.100000  \n",
      "2         93                     8000              0.000000  \n",
      "3        100                      350              0.000000  \n",
      "4        100                       80              0.000000  \n"
     ]
    }
   ],
   "source": [
    "df_meteo_tot = pd.concat(df_meteo.values(), ignore_index=True)\n",
    "print(df_meteo_tot.describe())\n",
    "print(df_meteo_tot.head())"
   ]
  }
 ],
 "metadata": {
  "kernelspec": {
   "display_name": "Python 3",
   "language": "python",
   "name": "python3"
  },
  "language_info": {
   "codemirror_mode": {
    "name": "ipython",
    "version": 3
   },
   "file_extension": ".py",
   "mimetype": "text/x-python",
   "name": "python",
   "nbconvert_exporter": "python",
   "pygments_lexer": "ipython3",
   "version": "3.13.0"
  }
 },
 "nbformat": 4,
 "nbformat_minor": 2
}
