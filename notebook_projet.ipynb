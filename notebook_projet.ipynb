{
 "cells": [
  {
   "cell_type": "code",
   "execution_count": 5,
   "metadata": {},
   "outputs": [
    {
     "name": "stdout",
     "output_type": "stream",
     "text": [
      "Requirement already satisfied: pandas in c:\\users\\antoi\\appdata\\local\\programs\\python\\python311\\lib\\site-packages (2.2.3)Note: you may need to restart the kernel to use updated packages.\n"
     ]
    },
    {
     "name": "stderr",
     "output_type": "stream",
     "text": [
      "\n",
      "[notice] A new release of pip is available: 23.1.2 -> 24.2\n",
      "[notice] To update, run: python.exe -m pip install --upgrade pip\n"
     ]
    },
    {
     "name": "stdout",
     "output_type": "stream",
     "text": [
      "\n",
      "Requirement already satisfied: numpy>=1.23.2 in c:\\users\\antoi\\appdata\\local\\programs\\python\\python311\\lib\\site-packages (from pandas) (2.1.2)\n",
      "Requirement already satisfied: python-dateutil>=2.8.2 in c:\\users\\antoi\\appdata\\roaming\\python\\python311\\site-packages (from pandas) (2.8.2)\n",
      "Requirement already satisfied: pytz>=2020.1 in c:\\users\\antoi\\appdata\\local\\programs\\python\\python311\\lib\\site-packages (from pandas) (2024.2)\n",
      "Requirement already satisfied: tzdata>=2022.7 in c:\\users\\antoi\\appdata\\local\\programs\\python\\python311\\lib\\site-packages (from pandas) (2024.2)\n",
      "Requirement already satisfied: six>=1.5 in c:\\users\\antoi\\appdata\\roaming\\python\\python311\\site-packages (from python-dateutil>=2.8.2->pandas) (1.16.0)\n"
     ]
    }
   ],
   "source": [
    "pip install pandas"
   ]
  },
  {
   "cell_type": "code",
   "execution_count": 2,
   "metadata": {},
   "outputs": [],
   "source": [
    "import pandas as pd\n"
   ]
  },
  {
   "cell_type": "code",
   "execution_count": 3,
   "metadata": {},
   "outputs": [
    {
     "data": {
      "text/html": [
       "<div>\n",
       "<style scoped>\n",
       "    .dataframe tbody tr th:only-of-type {\n",
       "        vertical-align: middle;\n",
       "    }\n",
       "\n",
       "    .dataframe tbody tr th {\n",
       "        vertical-align: top;\n",
       "    }\n",
       "\n",
       "    .dataframe thead th {\n",
       "        text-align: right;\n",
       "    }\n",
       "</style>\n",
       "<table border=\"1\" class=\"dataframe\">\n",
       "  <thead>\n",
       "    <tr style=\"text-align: right;\">\n",
       "      <th></th>\n",
       "      <th>valeur</th>\n",
       "      <th>valeur brute</th>\n",
       "      <th>taux de saisie</th>\n",
       "      <th>couverture temporelle</th>\n",
       "      <th>couverture de données</th>\n",
       "      <th>validité</th>\n",
       "      <th>Latitude</th>\n",
       "      <th>Longitude</th>\n",
       "    </tr>\n",
       "  </thead>\n",
       "  <tbody>\n",
       "    <tr>\n",
       "      <th>count</th>\n",
       "      <td>54915.000000</td>\n",
       "      <td>54915.000000</td>\n",
       "      <td>54915.000000</td>\n",
       "      <td>54915.0</td>\n",
       "      <td>54915.000000</td>\n",
       "      <td>54915.000000</td>\n",
       "      <td>54915.000000</td>\n",
       "      <td>54915.000000</td>\n",
       "    </tr>\n",
       "    <tr>\n",
       "      <th>mean</th>\n",
       "      <td>77.591960</td>\n",
       "      <td>77.578829</td>\n",
       "      <td>98.523300</td>\n",
       "      <td>100.0</td>\n",
       "      <td>98.523300</td>\n",
       "      <td>0.965437</td>\n",
       "      <td>43.921851</td>\n",
       "      <td>2.385489</td>\n",
       "    </tr>\n",
       "    <tr>\n",
       "      <th>std</th>\n",
       "      <td>24.053999</td>\n",
       "      <td>24.054031</td>\n",
       "      <td>7.440464</td>\n",
       "      <td>0.0</td>\n",
       "      <td>7.440464</td>\n",
       "      <td>0.260637</td>\n",
       "      <td>12.356722</td>\n",
       "      <td>14.251810</td>\n",
       "    </tr>\n",
       "    <tr>\n",
       "      <th>min</th>\n",
       "      <td>0.100000</td>\n",
       "      <td>0.100000</td>\n",
       "      <td>4.000000</td>\n",
       "      <td>100.0</td>\n",
       "      <td>4.000000</td>\n",
       "      <td>-1.000000</td>\n",
       "      <td>-21.334406</td>\n",
       "      <td>-63.081481</td>\n",
       "    </tr>\n",
       "    <tr>\n",
       "      <th>25%</th>\n",
       "      <td>64.300000</td>\n",
       "      <td>64.275000</td>\n",
       "      <td>100.000000</td>\n",
       "      <td>100.0</td>\n",
       "      <td>100.000000</td>\n",
       "      <td>1.000000</td>\n",
       "      <td>44.060347</td>\n",
       "      <td>1.047892</td>\n",
       "    </tr>\n",
       "    <tr>\n",
       "      <th>50%</th>\n",
       "      <td>75.700000</td>\n",
       "      <td>75.725000</td>\n",
       "      <td>100.000000</td>\n",
       "      <td>100.0</td>\n",
       "      <td>100.000000</td>\n",
       "      <td>1.000000</td>\n",
       "      <td>46.652668</td>\n",
       "      <td>3.058333</td>\n",
       "    </tr>\n",
       "    <tr>\n",
       "      <th>75%</th>\n",
       "      <td>89.300000</td>\n",
       "      <td>89.275000</td>\n",
       "      <td>100.000000</td>\n",
       "      <td>100.0</td>\n",
       "      <td>100.000000</td>\n",
       "      <td>1.000000</td>\n",
       "      <td>48.729694</td>\n",
       "      <td>5.394716</td>\n",
       "    </tr>\n",
       "    <tr>\n",
       "      <th>max</th>\n",
       "      <td>206.300000</td>\n",
       "      <td>206.275000</td>\n",
       "      <td>100.000000</td>\n",
       "      <td>100.0</td>\n",
       "      <td>100.000000</td>\n",
       "      <td>1.000000</td>\n",
       "      <td>51.032761</td>\n",
       "      <td>55.582620</td>\n",
       "    </tr>\n",
       "  </tbody>\n",
       "</table>\n",
       "</div>"
      ],
      "text/plain": [
       "             valeur  valeur brute  taux de saisie  couverture temporelle  \\\n",
       "count  54915.000000  54915.000000    54915.000000                54915.0   \n",
       "mean      77.591960     77.578829       98.523300                  100.0   \n",
       "std       24.053999     24.054031        7.440464                    0.0   \n",
       "min        0.100000      0.100000        4.000000                  100.0   \n",
       "25%       64.300000     64.275000      100.000000                  100.0   \n",
       "50%       75.700000     75.725000      100.000000                  100.0   \n",
       "75%       89.300000     89.275000      100.000000                  100.0   \n",
       "max      206.300000    206.275000      100.000000                  100.0   \n",
       "\n",
       "       couverture de données      validité      Latitude     Longitude  \n",
       "count           54915.000000  54915.000000  54915.000000  54915.000000  \n",
       "mean               98.523300      0.965437     43.921851      2.385489  \n",
       "std                 7.440464      0.260637     12.356722     14.251810  \n",
       "min                 4.000000     -1.000000    -21.334406    -63.081481  \n",
       "25%               100.000000      1.000000     44.060347      1.047892  \n",
       "50%               100.000000      1.000000     46.652668      3.058333  \n",
       "75%               100.000000      1.000000     48.729694      5.394716  \n",
       "max               100.000000      1.000000     51.032761     55.582620  "
      ]
     },
     "execution_count": 3,
     "metadata": {},
     "output_type": "execute_result"
    }
   ],
   "source": [
    "df_SO2_perX = pd.read_csv('CSV_data\\GEODAIR\\O3\\O3_moy_hor.per8.csv', sep = ';')\n",
    "\n",
    "df_SO2_perX.describe()"
   ]
  },
  {
   "cell_type": "markdown",
   "metadata": {},
   "source": [
    "### On combine les dataframes dans leur longueure\n",
    "\n",
    "Les data frames sont chacuns divisisés en 8 périodes en raison des limitations liées à la méthode d'importation des données. On concatène donc les données liées à chaque polluant dans la longueur en procédant de la dernière période à la première (chaque période représentant une période de 6 mois classé dans l'odre antichronologique au sein de chaque data frame)."
   ]
  },
  {
   "cell_type": "code",
   "execution_count": 10,
   "metadata": {},
   "outputs": [
    {
     "data": {
      "text/plain": [
       "[523418, 437621, 306241, 528658, 129022]"
      ]
     },
     "execution_count": 10,
     "metadata": {},
     "output_type": "execute_result"
    }
   ],
   "source": [
    "folder_paths = [\n",
    "   r\"CSV_data\\GEODAIR\\NO2\\NO2_moy_hor_per\", #Utiliser soit r\"...\" soit des \\\\ sinon les \"\\N\" de \"\\NO2\" posent problème\n",
    "    \"CSV_data\\GEODAIR\\O3\\O3_moy_hor_per\",\n",
    "    \"CSV_data\\GEODAIR\\PM2.5\\PM2.5_moy_jour_per\",\n",
    "    \"CSV_data\\GEODAIR\\PM10\\PM10_moy_jour_per\",\n",
    "    \"CSV_data\\GEODAIR\\SO2\\SO2_moy_hor_per\"\n",
    "    ]\n",
    "\n",
    "#Ici l'instruction \"range(8,1,-1)\" permet de classer les chemins du plus récent au moins récent.\n",
    "all_file_paths = [[ folder + str(i) + \".csv\" for i in range(8,0,-1)] for folder in folder_paths]\n",
    "\n",
    "\n",
    "all_combined_df = [pd.concat([pd.read_csv(file, sep = \";\") for file in all_file_paths[i]]) for i in range(5)]\n",
    "\n",
    "longeurs = [len(df) for df in all_combined_df]\n",
    "longeurs\n",
    "#Fonctionne\n",
    "# Output : [523418, 437621, 306241, 528658, 129022] le df le plus long est celui des mesures de NO2"
   ]
  },
  {
   "cell_type": "markdown",
   "metadata": {},
   "source": [
    "### Jointures\n",
    "\n",
    "Pour calculer les indices de polluants localement, le plus simple est de joindre les data frames sur la clé suivante : [date, localisation]. On commence par joindre les différents dataframes sur le plus petits d'entre eux afin de maximiser la complétude des champs de données."
   ]
  },
  {
   "cell_type": "code",
   "execution_count": 15,
   "metadata": {},
   "outputs": [
    {
     "data": {
      "text/html": [
       "<div>\n",
       "<style scoped>\n",
       "    .dataframe tbody tr th:only-of-type {\n",
       "        vertical-align: middle;\n",
       "    }\n",
       "\n",
       "    .dataframe tbody tr th {\n",
       "        vertical-align: top;\n",
       "    }\n",
       "\n",
       "    .dataframe thead th {\n",
       "        text-align: right;\n",
       "    }\n",
       "</style>\n",
       "<table border=\"1\" class=\"dataframe\">\n",
       "  <thead>\n",
       "    <tr style=\"text-align: right;\">\n",
       "      <th></th>\n",
       "      <th>Date de début</th>\n",
       "      <th>Date de fin</th>\n",
       "      <th>Organisme</th>\n",
       "      <th>code zas</th>\n",
       "      <th>Zas</th>\n",
       "      <th>code site</th>\n",
       "      <th>nom site</th>\n",
       "      <th>type d'implantation</th>\n",
       "      <th>Polluant</th>\n",
       "      <th>type d'influence</th>\n",
       "      <th>...</th>\n",
       "      <th>valeur</th>\n",
       "      <th>valeur brute</th>\n",
       "      <th>unité de mesure</th>\n",
       "      <th>taux de saisie</th>\n",
       "      <th>couverture temporelle</th>\n",
       "      <th>couverture de données</th>\n",
       "      <th>code qualité</th>\n",
       "      <th>validité</th>\n",
       "      <th>Latitude</th>\n",
       "      <th>Longitude</th>\n",
       "    </tr>\n",
       "  </thead>\n",
       "  <tbody>\n",
       "    <tr>\n",
       "      <th>0</th>\n",
       "      <td>2023/07/01 00:00:00</td>\n",
       "      <td>2023/07/01 23:59:59</td>\n",
       "      <td>ATMO GRAND EST</td>\n",
       "      <td>FR44ZAG02</td>\n",
       "      <td>ZAG METZ</td>\n",
       "      <td>FR01011</td>\n",
       "      <td>Metz-Centre</td>\n",
       "      <td>Urbaine</td>\n",
       "      <td>PM10</td>\n",
       "      <td>Fond</td>\n",
       "      <td>...</td>\n",
       "      <td>6.0</td>\n",
       "      <td>5.875000</td>\n",
       "      <td>µg-m3</td>\n",
       "      <td>100.0</td>\n",
       "      <td>100</td>\n",
       "      <td>100.0</td>\n",
       "      <td>A</td>\n",
       "      <td>1</td>\n",
       "      <td>49.119442</td>\n",
       "      <td>6.180833</td>\n",
       "    </tr>\n",
       "    <tr>\n",
       "      <th>1</th>\n",
       "      <td>2023/07/01 00:00:00</td>\n",
       "      <td>2023/07/01 23:59:59</td>\n",
       "      <td>ATMO GRAND EST</td>\n",
       "      <td>FR44ZAG02</td>\n",
       "      <td>ZAG METZ</td>\n",
       "      <td>FR01012</td>\n",
       "      <td>Metz-Borny</td>\n",
       "      <td>Urbaine</td>\n",
       "      <td>PM10</td>\n",
       "      <td>Fond</td>\n",
       "      <td>...</td>\n",
       "      <td>7.0</td>\n",
       "      <td>6.645833</td>\n",
       "      <td>µg-m3</td>\n",
       "      <td>100.0</td>\n",
       "      <td>100</td>\n",
       "      <td>100.0</td>\n",
       "      <td>A</td>\n",
       "      <td>1</td>\n",
       "      <td>49.110283</td>\n",
       "      <td>6.223336</td>\n",
       "    </tr>\n",
       "  </tbody>\n",
       "</table>\n",
       "<p>2 rows × 23 columns</p>\n",
       "</div>"
      ],
      "text/plain": [
       "         Date de début          Date de fin       Organisme   code zas  \\\n",
       "0  2023/07/01 00:00:00  2023/07/01 23:59:59  ATMO GRAND EST  FR44ZAG02   \n",
       "1  2023/07/01 00:00:00  2023/07/01 23:59:59  ATMO GRAND EST  FR44ZAG02   \n",
       "\n",
       "        Zas code site     nom site type d'implantation Polluant  \\\n",
       "0  ZAG METZ   FR01011  Metz-Centre             Urbaine     PM10   \n",
       "1  ZAG METZ   FR01012   Metz-Borny             Urbaine     PM10   \n",
       "\n",
       "  type d'influence  ... valeur valeur brute unité de mesure  taux de saisie  \\\n",
       "0             Fond  ...    6.0     5.875000           µg-m3           100.0   \n",
       "1             Fond  ...    7.0     6.645833           µg-m3           100.0   \n",
       "\n",
       "   couverture temporelle couverture de données  code qualité  validité  \\\n",
       "0                    100                 100.0             A         1   \n",
       "1                    100                 100.0             A         1   \n",
       "\n",
       "    Latitude Longitude  \n",
       "0  49.119442  6.180833  \n",
       "1  49.110283  6.223336  \n",
       "\n",
       "[2 rows x 23 columns]"
      ]
     },
     "execution_count": 15,
     "metadata": {},
     "output_type": "execute_result"
    }
   ],
   "source": [
    "all_combined_df[3].head(2)\n"
   ]
  },
  {
   "cell_type": "code",
   "execution_count": 20,
   "metadata": {},
   "outputs": [],
   "source": [
    "\n",
    "# Specify the columns to join on\n",
    "join_columns = [\"Date de début\", \"Date de fin\", \"code site\"]\n",
    "\n",
    "# Find the smallest dataframe based on the number of rows\n",
    "smallest_df = min(all_combined_df, key=len)\n",
    "\n",
    "# Initialize the result dataframe with the smallest dataframe\n",
    "result_df = smallest_df\n",
    "\n",
    "# Merge each dataframe in the list with unique suffixes\n",
    "for i, df in enumerate(all_combined_df):\n",
    "    if df is not smallest_df:  # Avoid self-joining\n",
    "        result_df = pd.merge(\n",
    "            result_df, \n",
    "            df, \n",
    "            on=join_columns, \n",
    "            how='inner', \n",
    "            suffixes=(None, f'_df{i}')  # Unique suffix for each dataframe\n",
    "        )\n",
    "\n",
    "# result_df now contains the inner join of all dataframes on the specified columns\n"
   ]
  },
  {
   "cell_type": "code",
   "execution_count": 27,
   "metadata": {},
   "outputs": [
    {
     "name": "stdout",
     "output_type": "stream",
     "text": [
      "['Date de début', 'Date de fin', 'Organisme', 'code zas', 'Zas', 'code site', 'nom site', \"type d'implantation\", 'Polluant', \"type d'influence\", 'Réglementaire', \"type d'évaluation\", 'type de valeur', 'valeur', 'valeur brute', 'unité de mesure', 'taux de saisie', 'couverture temporelle', 'couverture de données', 'code qualité', 'validité', 'Latitude', 'Longitude', 'Organisme_df0', 'code zas_df0', 'Zas_df0', 'nom site_df0', \"type d'implantation_df0\", 'Polluant_df0', \"type d'influence_df0\", 'Réglementaire_df0', \"type d'évaluation_df0\", 'type de valeur_df0', 'valeur_df0', 'valeur brute_df0', 'unité de mesure_df0', 'taux de saisie_df0', 'couverture temporelle_df0', 'couverture de données_df0', 'code qualité_df0', 'validité_df0', 'Latitude_df0', 'Longitude_df0', 'Organisme_df1', 'code zas_df1', 'Zas_df1', 'nom site_df1', \"type d'implantation_df1\", 'Polluant_df1', \"type d'influence_df1\", 'Réglementaire_df1', \"type d'évaluation_df1\", 'type de valeur_df1', 'valeur_df1', 'valeur brute_df1', 'unité de mesure_df1', 'taux de saisie_df1', 'couverture temporelle_df1', 'couverture de données_df1', 'code qualité_df1', 'validité_df1', 'Latitude_df1', 'Longitude_df1', 'Organisme_df2', 'code zas_df2', 'Zas_df2', 'nom site_df2', \"type d'implantation_df2\", 'Polluant_df2', \"type d'influence_df2\", 'Réglementaire_df2', \"type d'évaluation_df2\", 'type de valeur_df2', 'valeur_df2', 'valeur brute_df2', 'unité de mesure_df2', 'taux de saisie_df2', 'couverture temporelle_df2', 'couverture de données_df2', 'code qualité_df2', 'validité_df2', 'Latitude_df2', 'Longitude_df2', 'Organisme_df3', 'code zas_df3', 'Zas_df3', 'nom site_df3', \"type d'implantation_df3\", 'Polluant_df3', \"type d'influence_df3\", 'Réglementaire_df3', \"type d'évaluation_df3\", 'type de valeur_df3', 'valeur_df3', 'valeur brute_df3', 'unité de mesure_df3', 'taux de saisie_df3', 'couverture temporelle_df3', 'couverture de données_df3', 'code qualité_df3', 'validité_df3', 'Latitude_df3', 'Longitude_df3'] 103\n"
     ]
    }
   ],
   "source": [
    "columns_list = result_df.columns.tolist()\n",
    "\n",
    "print(columns_list, len(columns_list))"
   ]
  }
 ],
 "metadata": {
  "kernelspec": {
   "display_name": "Python 3",
   "language": "python",
   "name": "python3"
  },
  "language_info": {
   "codemirror_mode": {
    "name": "ipython",
    "version": 3
   },
   "file_extension": ".py",
   "mimetype": "text/x-python",
   "name": "python",
   "nbconvert_exporter": "python",
   "pygments_lexer": "ipython3",
   "version": "3.11.4"
  }
 },
 "nbformat": 4,
 "nbformat_minor": 2
}
